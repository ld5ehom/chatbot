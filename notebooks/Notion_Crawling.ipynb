{
 "cells": [
  {
   "cell_type": "code",
   "execution_count": 7,
   "id": "ecc166e6",
   "metadata": {},
   "outputs": [],
   "source": [
    "import boto3\n",
    "from botocore.exceptions import ClientError"
   ]
  },
  {
   "cell_type": "code",
   "execution_count": 4,
   "id": "b673f58f",
   "metadata": {},
   "outputs": [
    {
     "name": "stdout",
     "output_type": "stream",
     "text": [
      "✅ Bucket created: rag-example-2\n"
     ]
    }
   ],
   "source": [
    "region = \"us-west-1\"\n",
    "bucket_name = \"chatbot-ld5ehom\"\n",
    "\n",
    "s3 = boto3.client(\"s3\", region_name=region)\n",
    "\n",
    "def create_bucket(bucket_name, region):\n",
    "    try:\n",
    "        location = {\"LocationConstraint\": region}\n",
    "        s3.create_bucket(\n",
    "            Bucket=bucket_name,\n",
    "            CreateBucketConfiguration=location\n",
    "        )\n",
    "        print(\"✅ Bucket created:\", bucket_name)\n",
    "    except ClientError as e:\n",
    "        print(\"❌ Bucket creation error:\", e)\n",
    "\n",
    "create_bucket(\"rag-example-2\", region)"
   ]
  },
  {
   "cell_type": "code",
   "execution_count": 5,
   "id": "c25f1094",
   "metadata": {},
   "outputs": [
    {
     "name": "stdout",
     "output_type": "stream",
     "text": [
      "Success\n",
      "Bucket is Empty\n"
     ]
    }
   ],
   "source": [
    "bucket_name = \"chatbot-ld5ehom\"\n",
    "def check_bucket_connection(bucket_name):\n",
    "    try: \n",
    "        response = s3.list_objects_v2(Bucket=bucket_name)\n",
    "        print(\"Success\")\n",
    "        contents = response.get(\"Contents\", [])\n",
    "\n",
    "        if contents:\n",
    "            for obj in contents:\n",
    "                print(obj[\"Key\"])\n",
    "        else: \n",
    "            print(\"Bucket is Empty\")\n",
    "    except ClientError as e:\n",
    "        print(e)\n",
    "check_bucket_connection(bucket_name)"
   ]
  },
  {
   "cell_type": "code",
   "execution_count": 8,
   "id": "0a596124",
   "metadata": {},
   "outputs": [],
   "source": [
    "from notion_client import Client\n",
    "import re"
   ]
  },
  {
   "cell_type": "code",
   "execution_count": 11,
   "id": "686555a7",
   "metadata": {},
   "outputs": [
    {
     "name": "stdout",
     "output_type": "stream",
     "text": [
      "23695a9a-7e1b-804e-bf15-cd78254cfa5c\n",
      "Setup\n"
     ]
    }
   ],
   "source": [
    "notion = Client(auth=\"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\")\n",
    "\n",
    "search_result = notion.search(\n",
    "    filter={\"property\":\"object\",\"value\":\"page\"},\n",
    "    sort={\"direction\":\"descending\", \"timestamp\":\"last_edited_time\"}\n",
    ")\n",
    "\n",
    "result = search_result[\"results\"][1]\n",
    "title = \"None\"\n",
    "\n",
    "props = result.get(\"properties\", {})\n",
    "\n",
    "if \"title\" in props:\n",
    "    title_list = props[\"title\"].get(\"title\",[])\n",
    "    if title_list:\n",
    "        title = title_list[0].get(\"plain_text\", \"None\")\n",
    "\n",
    "print(result[\"id\"])\n",
    "print(title)\n"
   ]
  },
  {
   "cell_type": "code",
   "execution_count": 12,
   "id": "65c7e5dd",
   "metadata": {},
   "outputs": [
    {
     "data": {
      "text/plain": [
       "{'object': 'page',\n",
       " 'id': '23695a9a-7e1b-804e-bf15-cd78254cfa5c',\n",
       " 'created_time': '2025-07-20T05:03:00.000Z',\n",
       " 'last_edited_time': '2025-07-20T05:13:00.000Z',\n",
       " 'created_by': {'object': 'user',\n",
       "  'id': '199d872b-594c-812b-ac8b-00024f879c96'},\n",
       " 'last_edited_by': {'object': 'user',\n",
       "  'id': '199d872b-594c-812b-ac8b-00024f879c96'},\n",
       " 'cover': None,\n",
       " 'icon': None,\n",
       " 'parent': {'type': 'workspace', 'workspace': True},\n",
       " 'archived': False,\n",
       " 'in_trash': False,\n",
       " 'properties': {'title': {'id': 'title',\n",
       "   'type': 'title',\n",
       "   'title': [{'type': 'text',\n",
       "     'text': {'content': 'Setup', 'link': None},\n",
       "     'annotations': {'bold': False,\n",
       "      'italic': False,\n",
       "      'strikethrough': False,\n",
       "      'underline': False,\n",
       "      'code': False,\n",
       "      'color': 'default'},\n",
       "     'plain_text': 'Setup',\n",
       "     'href': None}]}},\n",
       " 'url': 'https://www.notion.so/Setup-23695a9a7e1b804ebf15cd78254cfa5c',\n",
       " 'public_url': None}"
      ]
     },
     "execution_count": 12,
     "metadata": {},
     "output_type": "execute_result"
    }
   ],
   "source": [
    "search_result[\"results\"][1]"
   ]
  },
  {
   "cell_type": "code",
   "execution_count": null,
   "id": "8d8b9e83",
   "metadata": {},
   "outputs": [
    {
     "name": "stdout",
     "output_type": "stream",
     "text": [
      "23695a9a-7e1b-808e-9ef3-fe84a04fcaaa\n",
      "HR\n",
      "23695a9a-7e1b-804e-bf15-cd78254cfa5c\n",
      "Setup\n",
      "23695a9a-7e1b-8029-af00-cdf87b225321\n",
      "설정\n",
      "23695a9a-7e1b-8085-a712-c260a41eacd0\n",
      "인사\n"
     ]
    }
   ],
   "source": [
    "def extract_sort_key(page):\n",
    "    title_obj = page[\"properties\"][\"title\"][\"title\"]\n",
    "    if not title_obj:\n",
    "        return float(\"inf\")\n",
    "    title_text = title_obj[0][\"plain_text\"]\n",
    "    match = re.match(r\"(\\d+)\", title_text)\n",
    "    return int(match.group(1)) if match else float(\"inf\")\n",
    "\n",
    "for i, result in enumerate(sorted_results, start=1):\n",
    "    title=\"None\"\n",
    "    props = result.get(\"properties\", {})\n",
    "    if \"title\" in props: \n",
    "        title_list = props[\"title\"].get(\"title\", [])\n",
    "        if title_list: \n",
    "            title = title_list[0].get(\"plain_text\", \"None\")\n",
    "\n",
    "    print(result[\"id\"])\n",
    "    print(title)\n"
   ]
  }
 ],
 "metadata": {
  "kernelspec": {
   "display_name": "venv",
   "language": "python",
   "name": "python3"
  },
  "language_info": {
   "codemirror_mode": {
    "name": "ipython",
    "version": 3
   },
   "file_extension": ".py",
   "mimetype": "text/x-python",
   "name": "python",
   "nbconvert_exporter": "python",
   "pygments_lexer": "ipython3",
   "version": "3.13.5"
  }
 },
 "nbformat": 4,
 "nbformat_minor": 5
}
