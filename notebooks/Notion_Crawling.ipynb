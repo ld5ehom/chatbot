{
 "cells": [
  {
   "cell_type": "code",
   "execution_count": 4,
   "id": "ecc166e6",
   "metadata": {},
   "outputs": [],
   "source": [
    "import boto3\n",
    "from botocore.exceptions import ClientError"
   ]
  },
  {
   "cell_type": "code",
   "execution_count": 5,
   "id": "b673f58f",
   "metadata": {},
   "outputs": [
    {
     "name": "stdout",
     "output_type": "stream",
     "text": [
      "❌ Bucket creation error: An error occurred (BucketAlreadyOwnedByYou) when calling the CreateBucket operation: Your previous request to create the named bucket succeeded and you already own it.\n"
     ]
    }
   ],
   "source": [
    "region = \"us-west-1\"\n",
    "bucket_name = \"chatbot-ld5ehom\"\n",
    "\n",
    "s3 = boto3.client(\"s3\", region_name=region)\n",
    "\n",
    "def create_bucket(bucket_name, region):\n",
    "    try:\n",
    "        location = {\"LocationConstraint\": region}\n",
    "        s3.create_bucket(\n",
    "            Bucket=bucket_name,\n",
    "            CreateBucketConfiguration=location\n",
    "        )\n",
    "        print(\"✅ Bucket created:\", bucket_name)\n",
    "    except ClientError as e:\n",
    "        print(\"❌ Bucket creation error:\", e)\n",
    "\n",
    "create_bucket(\"rag-example-2\", region)"
   ]
  },
  {
   "cell_type": "code",
   "execution_count": 6,
   "id": "c25f1094",
   "metadata": {},
   "outputs": [
    {
     "name": "stdout",
     "output_type": "stream",
     "text": [
      "Success\n",
      "Bucket is Empty\n"
     ]
    }
   ],
   "source": [
    "bucket_name = \"chatbot-ld5ehom\"\n",
    "def check_bucket_connection(bucket_name):\n",
    "    try: \n",
    "        response = s3.list_objects_v2(Bucket=bucket_name)\n",
    "        print(\"Success\")\n",
    "        contents = response.get(\"Contents\", [])\n",
    "\n",
    "        if contents:\n",
    "            for obj in contents:\n",
    "                print(obj[\"Key\"])\n",
    "        else: \n",
    "            print(\"Bucket is Empty\")\n",
    "    except ClientError as e:\n",
    "        print(e)\n",
    "check_bucket_connection(bucket_name)"
   ]
  },
  {
   "cell_type": "code",
   "execution_count": 7,
   "id": "0a596124",
   "metadata": {},
   "outputs": [],
   "source": [
    "from notion_client import Client\n",
    "import re"
   ]
  },
  {
   "cell_type": "code",
   "execution_count": 8,
   "id": "686555a7",
   "metadata": {},
   "outputs": [
    {
     "name": "stdout",
     "output_type": "stream",
     "text": [
      "23695a9a-7e1b-8085-a712-c260a41eacd0\n",
      "HR(인사)\n"
     ]
    }
   ],
   "source": [
    "notion = Client(auth=\"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\")\n",
    "\n",
    "search_result = notion.search(\n",
    "    filter={\"property\":\"object\",\"value\":\"page\"},\n",
    "    sort={\"direction\":\"descending\", \"timestamp\":\"last_edited_time\"}\n",
    ")\n",
    "\n",
    "result = search_result[\"results\"][1]\n",
    "title = \"None\"\n",
    "\n",
    "props = result.get(\"properties\", {})\n",
    "\n",
    "if \"title\" in props:\n",
    "    title_list = props[\"title\"].get(\"title\",[])\n",
    "    if title_list:\n",
    "        title = title_list[0].get(\"plain_text\", \"None\")\n",
    "\n",
    "print(result[\"id\"])\n",
    "print(title)\n"
   ]
  },
  {
   "cell_type": "code",
   "execution_count": 9,
   "id": "65c7e5dd",
   "metadata": {},
   "outputs": [
    {
     "data": {
      "text/plain": [
       "{'object': 'page',\n",
       " 'id': '23695a9a-7e1b-8085-a712-c260a41eacd0',\n",
       " 'created_time': '2025-07-20T03:45:00.000Z',\n",
       " 'last_edited_time': '2025-07-21T03:23:00.000Z',\n",
       " 'created_by': {'object': 'user',\n",
       "  'id': '199d872b-594c-812b-ac8b-00024f879c96'},\n",
       " 'last_edited_by': {'object': 'user',\n",
       "  'id': '199d872b-594c-812b-ac8b-00024f879c96'},\n",
       " 'cover': None,\n",
       " 'icon': None,\n",
       " 'parent': {'type': 'workspace', 'workspace': True},\n",
       " 'archived': False,\n",
       " 'in_trash': False,\n",
       " 'properties': {'title': {'id': 'title',\n",
       "   'type': 'title',\n",
       "   'title': [{'type': 'text',\n",
       "     'text': {'content': 'HR(인사)', 'link': None},\n",
       "     'annotations': {'bold': False,\n",
       "      'italic': False,\n",
       "      'strikethrough': False,\n",
       "      'underline': False,\n",
       "      'code': False,\n",
       "      'color': 'default'},\n",
       "     'plain_text': 'HR(인사)',\n",
       "     'href': None}]}},\n",
       " 'url': 'https://www.notion.so/HR-23695a9a7e1b8085a712c260a41eacd0',\n",
       " 'public_url': None}"
      ]
     },
     "execution_count": 9,
     "metadata": {},
     "output_type": "execute_result"
    }
   ],
   "source": [
    "search_result[\"results\"][1]"
   ]
  },
  {
   "cell_type": "code",
   "execution_count": 10,
   "id": "8d8b9e83",
   "metadata": {},
   "outputs": [
    {
     "name": "stdout",
     "output_type": "stream",
     "text": [
      "23695a9a-7e1b-804e-bf15-cd78254cfa5c\n",
      "Setup\n"
     ]
    }
   ],
   "source": [
    "def extract_sort_key(page):\n",
    "    title_obj = page[\"properties\"][\"title\"][\"title\"]\n",
    "    if not title_obj:\n",
    "        return float(\"inf\")\n",
    "    title_text = title_obj[0][\"plain_text\"]\n",
    "    match = re.match(r\"(\\d+)\", title_text)\n",
    "    return int(match.group(1)) if match else float(\"inf\")\n",
    "\n",
    "sorted_results = sorted(search_result[\"results\"], key=extract_sort_key)\n",
    "\n",
    "for i, result in enumerate(sorted_results, start=1):\n",
    "    title=\"None\"\n",
    "    props = result.get(\"properties\", {})\n",
    "    if \"title\" in props: \n",
    "        title_list = props[\"title\"].get(\"title\", [])\n",
    "        if title_list: \n",
    "            title = title_list[0].get(\"plain_text\", \"None\")\n",
    "\n",
    "print(result[\"id\"])\n",
    "print(title)\n"
   ]
  },
  {
   "cell_type": "code",
   "execution_count": null,
   "id": "1a2466d8",
   "metadata": {},
   "outputs": [
    {
     "ename": "SyntaxError",
     "evalue": "invalid syntax (406341383.py, line 14)",
     "output_type": "error",
     "traceback": [
      "  \u001b[36mCell\u001b[39m\u001b[36m \u001b[39m\u001b[32mIn[11]\u001b[39m\u001b[32m, line 14\u001b[39m\n\u001b[31m    \u001b[39m\u001b[31mreturn title_obj[0][\"plain_text\"] if title_obj else\u001b[39m\n                                                        ^\n\u001b[31mSyntaxError\u001b[39m\u001b[31m:\u001b[39m invalid syntax\n"
     ]
    }
   ],
   "source": [
    "import os\n",
    "import json\n",
    "\n",
    "def sanitize_filename(name):\n",
    "    return name.replace(\"/\",\"_\").replace(\"\\\\\",\"_\").replace(\":\",\"_\").replace(\" \",\"_\")\n",
    "\n",
    "def extract_leading_number(title):\n",
    "    match = re.match(r\"(\\d+)\", title)\n",
    "    return int(match.group(1) if match else float(\"inf\"))\n",
    "\n",
    "def get_page_title(page_obj):\n",
    "    props = page_obj.get(\"properties\", {})\n",
    "    title_obj = props.get(\"title\", {}).get(\"title\", [])\n",
    "    return title_obj[0][\"plain_text\"] if title_obj else \"None\"\n",
    "\n",
    "def block_to_json(block, notion, list_item_number=None):\n",
    "    block_type = block[\"type\"]\n",
    "    result = {\"type\": block_type, \"context\": \"\"}\n",
    "\n",
    "    def get_text(rich_text):\n",
    "        return \"\".join([t[\"text\"][\"content\"] for t in rich_text])\n",
    "    \n",
    "    if block_type == \"paragraph\":\n",
    "        result[\"content\"] = get_text(block[\"paragraph\"][\"rich_text\"])\n",
    "\n",
    "    elif block_type == \"numbered_list_item\":\n",
    "        content = get_text(block[\"numbered_list_item\"][\"rich_text\"])\n",
    "        result[\"content\"] = f\"{list_item_number}. {content}\" if list_item_number else content\n",
    "\n",
    "    elif block_type == \"bulleted_list_item\":\n",
    "        result[\"content\"] = get_text(block[\"bulleted_list_item\"][\"rich_text\"])\n",
    "\n",
    "    elif block_type == \"heading_1\":\n",
    "        result[\"content\"] = get_text(block[\"heading_1\"][\"rich_text\"])\n",
    "\n",
    "    elif block_type == \"code\":\n",
    "        result[\"content\"] = get_text(block[\"code\"][\"rich_text\"])\n",
    "\n",
    "    elif block_type == \"divider\":\n",
    "        result[\"content\"] = \"---\"\n",
    "\n",
    "    elif block_type == \"table\":\n",
    "        table_rows = notion.blocks.children.list(block[\"id\"])\n",
    "        table_data = []\n",
    "\n",
    "        for row in table_rows[\"results\"]:\n",
    "            if row[\"type\"] != \"table_row\":\n",
    "                continue\n",
    "            row_cells = row[\"table_row\"][\"cells\"]\n",
    "            row_data = [\"\".join([text[\"text\"][\"content\"] for text in cell]) for cell in row_cells]\n",
    "            table_data.append(row_data)\n",
    "\n",
    "        result[\"content\"] = table_data\n",
    "        result[\"type\"] = \"table\"\n",
    "\n",
    "    return result\n",
    "\n",
    "def process_blocks_to_json(page_id, title, blocks, notion):\n",
    "    json_data = {\n",
    "        \"id\": page_id,\n",
    "        \"title\": title,\n",
    "        \"page_type\": \"child\",\n",
    "        \"chunks\": []\n",
    "    }\n",
    "\n",
    "    list_item_number = 1\n",
    "    for block in blocks[\"results\"]:\n",
    "        block_type = block[\"type\"]\n",
    "        if block_type == \"numbered_list_item\":\n",
    "            json_block = block_to_json(block, notion, list_item_number)\n",
    "            list_item_number += 1\n",
    "        else:\n",
    "            json_block = block_to_json(block, notion)\n",
    "        json_data[\"chunks\"].append(json_block)\n",
    "\n",
    "    return json_data\n",
    "\n",
    "def save_json_data(json_data, filename, folder=\"Notion_Export\"):\n",
    "    os.makedirs(folder, exist_ok=True)\n",
    "    filepath = os.path.join(folder, filename)\n",
    "\n",
    "    with open(filepath, \"w\", encoding=\"utf-8\") as f:\n",
    "        json.dump(json_data, f, indent=2, ensure_ascii=False)\n",
    "\n",
    "    print(\"✅ Save complete\")\n",
    "\n",
    "def export_page_to_json(page_obj, notion):\n",
    "    page_id = page_obj[\"id\"]\n",
    "    title = get_page_title(page_obj)\n",
    "    filename = sanitize_filename(title) + \".json\"\n",
    "\n",
    "    parent_type = page_obj.get(\"parent\", {}).get(\"type\")\n",
    "\n",
    "    if parent_type == \"workspace\":\n",
    "        children = notion.search(\n",
    "            filter={\"property\": \"object\", \"value\": \"page\"},\n",
    "            sort={\"direction\": \"ascending\", \"timestamp\": \"last_edited_time\"}\n",
    "        )[\"results\"]\n",
    "\n",
    "        sub_pages = []\n",
    "        for child in children:\n",
    "            child_parent = child.get(\"parent\", {})\n",
    "            if child_parent.get(\"type\") == \"page_id\" and child_parent.get(\"page_id\") == page_id:\n",
    "                sub_title = get_page_title(child)\n",
    "                sub_pages.append(sub_title)\n",
    "\n",
    "        sub_pages.sort(key=extract_leading_number)\n",
    "\n",
    "        json_data = {\n",
    "            \"id\": page_id,\n",
    "            \"title\": title,\n",
    "            \"page_type\": \"workspace\",\n",
    "            \"children_titles\": sub_pages\n",
    "        }\n",
    "\n",
    "    else:\n",
    "        blocks = notion.blocks.children.list(page_id)\n",
    "        json_data = process_blocks_to_json(page_id, title, blocks, notion)\n",
    "\n",
    "    save_json_data(json_data, filename)\n",
    "\n",
    "for result in search_result[\"results\"]:\n",
    "    export_page_to_json(result, notion)\n"
   ]
  },
  {
   "cell_type": "code",
   "execution_count": null,
   "id": "349ad631",
   "metadata": {},
   "outputs": [],
   "source": []
  }
 ],
 "metadata": {
  "kernelspec": {
   "display_name": "venv",
   "language": "python",
   "name": "python3"
  },
  "language_info": {
   "codemirror_mode": {
    "name": "ipython",
    "version": 3
   },
   "file_extension": ".py",
   "mimetype": "text/x-python",
   "name": "python",
   "nbconvert_exporter": "python",
   "pygments_lexer": "ipython3",
   "version": "3.13.5"
  }
 },
 "nbformat": 4,
 "nbformat_minor": 5
}
